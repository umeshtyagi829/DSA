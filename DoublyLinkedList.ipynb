{
 "cells": [
  {
   "cell_type": "code",
   "execution_count": 1,
   "metadata": {},
   "outputs": [],
   "source": [
    "class DoublyLinkedList:\n",
    "    def __init__(self, data):\n",
    "        self.data = data\n",
    "        self.previousNode = None\n",
    "        self.nextNode = None\n",
    "        \n",
    "    def prev(self,prev):\n",
    "        self.previousNode = prev\n",
    "        \n",
    "    def nex_t(self,nextnode):\n",
    "        self.nextNode = nextnode\n",
    "        \n",
    "    "
   ]
  },
  {
   "cell_type": "code",
   "execution_count": 2,
   "metadata": {},
   "outputs": [],
   "source": [
    "item1 = DoublyLinkedList(\"a@gmail.com\")\n",
    "item2 = DoublyLinkedList(\"b@gmail.com\")\n",
    "item3 = DoublyLinkedList(\"c@gmail.com\")\n",
    "item4 = DoublyLinkedList(\"d@gmail.com\")\n",
    "item5 = DoublyLinkedList(\"e@gmail.com\")"
   ]
  },
  {
   "cell_type": "code",
   "execution_count": 3,
   "metadata": {},
   "outputs": [],
   "source": [
    "nodeDetails = [item1.__dict__,\n",
    "item2.__dict__,\n",
    "item3.__dict__,\n",
    "item4.__dict__,\n",
    "item5.__dict__]"
   ]
  },
  {
   "cell_type": "code",
   "execution_count": 4,
   "metadata": {},
   "outputs": [
    {
     "data": {
      "text/plain": [
       "[{'data': 'a@gmail.com', 'previousNode': None, 'nextNode': None},\n",
       " {'data': 'b@gmail.com', 'previousNode': None, 'nextNode': None},\n",
       " {'data': 'c@gmail.com', 'previousNode': None, 'nextNode': None},\n",
       " {'data': 'd@gmail.com', 'previousNode': None, 'nextNode': None},\n",
       " {'data': 'e@gmail.com', 'previousNode': None, 'nextNode': None}]"
      ]
     },
     "execution_count": 4,
     "metadata": {},
     "output_type": "execute_result"
    }
   ],
   "source": [
    "nodeDetails"
   ]
  },
  {
   "cell_type": "code",
   "execution_count": 5,
   "metadata": {},
   "outputs": [],
   "source": [
    "item1.nex_t(item2)\n",
    "item2.nex_t(item3)\n",
    "item3.nex_t(item4)\n",
    "item4.nex_t(item5)"
   ]
  },
  {
   "cell_type": "code",
   "execution_count": 8,
   "metadata": {},
   "outputs": [
    {
     "data": {
      "text/plain": [
       "[{'data': 'a@gmail.com',\n",
       "  'previousNode': None,\n",
       "  'nextNode': <__main__.DoublyLinkedList at 0x239a8add6d0>},\n",
       " {'data': 'b@gmail.com',\n",
       "  'previousNode': None,\n",
       "  'nextNode': <__main__.DoublyLinkedList at 0x239a8af90a0>},\n",
       " {'data': 'c@gmail.com',\n",
       "  'previousNode': None,\n",
       "  'nextNode': <__main__.DoublyLinkedList at 0x239a8af9160>},\n",
       " {'data': 'd@gmail.com',\n",
       "  'previousNode': None,\n",
       "  'nextNode': <__main__.DoublyLinkedList at 0x239a8af9130>},\n",
       " {'data': 'e@gmail.com', 'previousNode': None, 'nextNode': None}]"
      ]
     },
     "execution_count": 8,
     "metadata": {},
     "output_type": "execute_result"
    }
   ],
   "source": [
    "nodeDetails"
   ]
  },
  {
   "cell_type": "code",
   "execution_count": 9,
   "metadata": {},
   "outputs": [],
   "source": [
    "item2.prev(item1)\n",
    "item3.prev(item2)\n",
    "item4.prev(item3)\n",
    "item5.prev(item4)"
   ]
  },
  {
   "cell_type": "code",
   "execution_count": 10,
   "metadata": {},
   "outputs": [
    {
     "data": {
      "text/plain": [
       "[{'data': 'a@gmail.com',\n",
       "  'previousNode': None,\n",
       "  'nextNode': <__main__.DoublyLinkedList at 0x239a8add6d0>},\n",
       " {'data': 'b@gmail.com',\n",
       "  'previousNode': <__main__.DoublyLinkedList at 0x239a8addee0>,\n",
       "  'nextNode': <__main__.DoublyLinkedList at 0x239a8af90a0>},\n",
       " {'data': 'c@gmail.com',\n",
       "  'previousNode': <__main__.DoublyLinkedList at 0x239a8add6d0>,\n",
       "  'nextNode': <__main__.DoublyLinkedList at 0x239a8af9160>},\n",
       " {'data': 'd@gmail.com',\n",
       "  'previousNode': <__main__.DoublyLinkedList at 0x239a8af90a0>,\n",
       "  'nextNode': <__main__.DoublyLinkedList at 0x239a8af9130>},\n",
       " {'data': 'e@gmail.com',\n",
       "  'previousNode': <__main__.DoublyLinkedList at 0x239a8af9160>,\n",
       "  'nextNode': None}]"
      ]
     },
     "execution_count": 10,
     "metadata": {},
     "output_type": "execute_result"
    }
   ],
   "source": [
    "nodeDetails"
   ]
  },
  {
   "cell_type": "code",
   "execution_count": 27,
   "metadata": {},
   "outputs": [],
   "source": [
    "start_node = item1\n",
    "def next_traverse_list():\n",
    "        if  start_node is None:\n",
    "            print(\"List has no element\")\n",
    "            return\n",
    "        else:\n",
    "            n = start_node\n",
    "            while n is not None:\n",
    "                print(n.data, \" \")\n",
    "                n = n.nextNode"
   ]
  },
  {
   "cell_type": "code",
   "execution_count": 28,
   "metadata": {},
   "outputs": [
    {
     "name": "stdout",
     "output_type": "stream",
     "text": [
      "a@gmail.com  \n",
      "b@gmail.com  \n",
      "c@gmail.com  \n",
      "d@gmail.com  \n",
      "e@gmail.com  \n"
     ]
    }
   ],
   "source": [
    "next_traverse_list()"
   ]
  },
  {
   "cell_type": "code",
   "execution_count": 29,
   "metadata": {},
   "outputs": [
    {
     "data": {
      "text/plain": [
       "True"
      ]
     },
     "execution_count": 29,
     "metadata": {},
     "output_type": "execute_result"
    }
   ],
   "source": [
    "item1 == item2.previousNode"
   ]
  },
  {
   "cell_type": "code",
   "execution_count": 30,
   "metadata": {},
   "outputs": [
    {
     "data": {
      "text/plain": [
       "True"
      ]
     },
     "execution_count": 30,
     "metadata": {},
     "output_type": "execute_result"
    }
   ],
   "source": [
    "item2 == item1.nextNode"
   ]
  },
  {
   "cell_type": "code",
   "execution_count": 31,
   "metadata": {},
   "outputs": [],
   "source": [
    "last_node = item5\n",
    "def prev_traverse_list():\n",
    "        if  last_node is None:\n",
    "            print(\"List has no element\")\n",
    "            return\n",
    "        else:\n",
    "            n = last_node\n",
    "            while n is not None:\n",
    "                print(n.data, \" \")\n",
    "                n = n.previousNode"
   ]
  },
  {
   "cell_type": "code",
   "execution_count": 32,
   "metadata": {},
   "outputs": [
    {
     "name": "stdout",
     "output_type": "stream",
     "text": [
      "e@gmail.com  \n",
      "d@gmail.com  \n",
      "c@gmail.com  \n",
      "b@gmail.com  \n",
      "a@gmail.com  \n"
     ]
    }
   ],
   "source": [
    "prev_traverse_list()"
   ]
  },
  {
   "cell_type": "code",
   "execution_count": null,
   "metadata": {},
   "outputs": [],
   "source": []
  }
 ],
 "metadata": {
  "kernelspec": {
   "display_name": "Python 3",
   "language": "python",
   "name": "python3"
  },
  "language_info": {
   "codemirror_mode": {
    "name": "ipython",
    "version": 3
   },
   "file_extension": ".py",
   "mimetype": "text/x-python",
   "name": "python",
   "nbconvert_exporter": "python",
   "pygments_lexer": "ipython3",
   "version": "3.8.3"
  }
 },
 "nbformat": 4,
 "nbformat_minor": 4
}
