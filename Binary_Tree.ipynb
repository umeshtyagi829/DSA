{
 "cells": [
  {
   "cell_type": "code",
   "execution_count": 8,
   "metadata": {},
   "outputs": [],
   "source": [
    "class Node:\n",
    "    def __init__(self, data):\n",
    "        self.data = data\n",
    "        self.leftNode = None\n",
    "        self.rightNode = None\n",
    "    def insert(self, data):\n",
    "        if self.data:\n",
    "            if data < self.data:\n",
    "                if self.leftNode is None:\n",
    "                    self.leftNode = Node(data)\n",
    "                else:\n",
    "                    self.leftNode.insert(data)\n",
    "            elif data > self.data:\n",
    "                if self.rightNode is None:\n",
    "                    self.rightNode = Node(data)\n",
    "                else:\n",
    "                    self.rightNode.insert(data)\n",
    "            else:\n",
    "                self.data = data\n",
    "    def PrintTree(self):\n",
    "        if self.leftNode:\n",
    "            self.leftNode.PrintTree()\n",
    "        print( self.data),\n",
    "        if self.rightNode:\n",
    "            self.rightNode.PrintTree()"
   ]
  },
  {
   "cell_type": "code",
   "execution_count": 9,
   "metadata": {},
   "outputs": [],
   "source": [
    "rootNode = Node(10)"
   ]
  },
  {
   "cell_type": "code",
   "execution_count": 10,
   "metadata": {},
   "outputs": [
    {
     "data": {
      "text/plain": [
       "{'data': 10, 'leftNode': None, 'rightNode': None}"
      ]
     },
     "execution_count": 10,
     "metadata": {},
     "output_type": "execute_result"
    }
   ],
   "source": [
    "rootNode.__dict__"
   ]
  },
  {
   "cell_type": "code",
   "execution_count": 11,
   "metadata": {},
   "outputs": [],
   "source": [
    "rootNode.insert(5)\n",
    "rootNode.insert(24)\n",
    "rootNode.insert(36)\n",
    "rootNode.insert(30)\n",
    "rootNode.insert(34)"
   ]
  },
  {
   "cell_type": "code",
   "execution_count": 13,
   "metadata": {},
   "outputs": [
    {
     "name": "stdout",
     "output_type": "stream",
     "text": [
      "5\n",
      "10\n",
      "24\n",
      "30\n",
      "34\n",
      "36\n"
     ]
    }
   ],
   "source": [
    "rootNode.PrintTree()"
   ]
  },
  {
   "cell_type": "code",
   "execution_count": null,
   "metadata": {},
   "outputs": [],
   "source": []
  }
 ],
 "metadata": {
  "kernelspec": {
   "display_name": "Python 3",
   "language": "python",
   "name": "python3"
  },
  "language_info": {
   "codemirror_mode": {
    "name": "ipython",
    "version": 3
   },
   "file_extension": ".py",
   "mimetype": "text/x-python",
   "name": "python",
   "nbconvert_exporter": "python",
   "pygments_lexer": "ipython3",
   "version": "3.8.3"
  }
 },
 "nbformat": 4,
 "nbformat_minor": 4
}
