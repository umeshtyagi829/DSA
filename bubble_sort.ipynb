{
 "cells": [
  {
   "cell_type": "code",
   "execution_count": 3,
   "metadata": {},
   "outputs": [],
   "source": [
    "def bubble_sort(data):\n",
    "    n = len(data)\n",
    "    for f in range(n-1):\n",
    "            for s in range(n -1 -f):\n",
    "                if data[s] > data[s+1]:\n",
    "                    data[s], data[s+1]= data[s+1], data[s]\n",
    "                print(data)"
   ]
  },
  {
   "cell_type": "code",
   "execution_count": 4,
   "metadata": {},
   "outputs": [],
   "source": [
    "data = [7,3,9,2,4,1,5]"
   ]
  },
  {
   "cell_type": "code",
   "execution_count": 5,
   "metadata": {},
   "outputs": [
    {
     "data": {
      "text/plain": [
       "[0, 1, 2, 3, 4, 5]"
      ]
     },
     "execution_count": 5,
     "metadata": {},
     "output_type": "execute_result"
    }
   ],
   "source": [
    "list(range(len(data) - 1))"
   ]
  },
  {
   "cell_type": "code",
   "execution_count": 6,
   "metadata": {},
   "outputs": [
    {
     "data": {
      "text/plain": [
       "7"
      ]
     },
     "execution_count": 6,
     "metadata": {},
     "output_type": "execute_result"
    }
   ],
   "source": [
    "data[0]"
   ]
  },
  {
   "cell_type": "code",
   "execution_count": 7,
   "metadata": {},
   "outputs": [
    {
     "name": "stdout",
     "output_type": "stream",
     "text": [
      "[3, 7, 9, 2, 4, 1, 5]\n",
      "[3, 7, 9, 2, 4, 1, 5]\n",
      "[3, 7, 2, 9, 4, 1, 5]\n",
      "[3, 7, 2, 4, 9, 1, 5]\n",
      "[3, 7, 2, 4, 1, 9, 5]\n",
      "[3, 7, 2, 4, 1, 5, 9]\n",
      "[3, 7, 2, 4, 1, 5, 9]\n",
      "[3, 2, 7, 4, 1, 5, 9]\n",
      "[3, 2, 4, 7, 1, 5, 9]\n",
      "[3, 2, 4, 1, 7, 5, 9]\n",
      "[3, 2, 4, 1, 5, 7, 9]\n",
      "[2, 3, 4, 1, 5, 7, 9]\n",
      "[2, 3, 4, 1, 5, 7, 9]\n",
      "[2, 3, 1, 4, 5, 7, 9]\n",
      "[2, 3, 1, 4, 5, 7, 9]\n",
      "[2, 3, 1, 4, 5, 7, 9]\n",
      "[2, 1, 3, 4, 5, 7, 9]\n",
      "[2, 1, 3, 4, 5, 7, 9]\n",
      "[1, 2, 3, 4, 5, 7, 9]\n",
      "[1, 2, 3, 4, 5, 7, 9]\n",
      "[1, 2, 3, 4, 5, 7, 9]\n"
     ]
    }
   ],
   "source": [
    "bubble_sort(data)"
   ]
  },
  {
   "cell_type": "code",
   "execution_count": 8,
   "metadata": {},
   "outputs": [],
   "source": [
    "   #print(\"first loop range\", range(n - 1))\n",
    "                #print(\"first element index number\", f)\n",
    "   #print(\"second loop range\", range(n -1 -f))\n",
    "               # print(\"Second element index number\", s)\n",
    "    #print(\"data[s]=\",data[s],\"data[s+1=]\",data[s+1])"
   ]
  },
  {
   "cell_type": "code",
   "execution_count": 9,
   "metadata": {},
   "outputs": [],
   "source": [
    "def buuble(arr):\n",
    "    for i in range(len(arr) -1):\n",
    "        print(\"position\", i)\n",
    "        for j in range(len(arr) -1 -i):\n",
    "            print(j)\n",
    "            if arr[j] > arr[j+1]:\n",
    "                print(\"left j is bigger\")"
   ]
  },
  {
   "cell_type": "code",
   "execution_count": 10,
   "metadata": {},
   "outputs": [],
   "source": [
    "data = [9,3,2,1]"
   ]
  },
  {
   "cell_type": "code",
   "execution_count": 11,
   "metadata": {},
   "outputs": [
    {
     "name": "stdout",
     "output_type": "stream",
     "text": [
      "position 0\n",
      "0\n",
      "left j is bigger\n",
      "1\n",
      "left j is bigger\n",
      "2\n",
      "left j is bigger\n",
      "position 1\n",
      "0\n",
      "left j is bigger\n",
      "1\n",
      "left j is bigger\n",
      "position 2\n",
      "0\n",
      "left j is bigger\n"
     ]
    }
   ],
   "source": [
    "buuble(data)"
   ]
  },
  {
   "cell_type": "code",
   "execution_count": 26,
   "metadata": {},
   "outputs": [],
   "source": [
    "data = [9,3,2,1]"
   ]
  },
  {
   "cell_type": "code",
   "execution_count": 39,
   "metadata": {},
   "outputs": [
    {
     "data": {
      "text/plain": [
       "2"
      ]
     },
     "execution_count": 39,
     "metadata": {},
     "output_type": "execute_result"
    }
   ],
   "source": [
    "data[1]"
   ]
  },
  {
   "cell_type": "code",
   "execution_count": 40,
   "metadata": {},
   "outputs": [],
   "source": [
    "def bub(arr):\n",
    "    for i in range(len(arr) -1):\n",
    "        print(\"for loop one\",i)\n",
    "        for s in range(len(arr) -1 - i):\n",
    "            print(\"for loop two----\", s)\n",
    "            if arr[s] > arr[s+1]:\n",
    "                arr[s] , arr[s+1] = arr[s+1], arr[s]\n",
    "    return arr"
   ]
  },
  {
   "cell_type": "code",
   "execution_count": 41,
   "metadata": {},
   "outputs": [
    {
     "name": "stdout",
     "output_type": "stream",
     "text": [
      "for loop one 0\n",
      "for loop two---- 0\n",
      "for loop two---- 1\n",
      "for loop two---- 2\n",
      "for loop one 1\n",
      "for loop two---- 0\n",
      "for loop two---- 1\n",
      "for loop one 2\n",
      "for loop two---- 0\n"
     ]
    },
    {
     "data": {
      "text/plain": [
       "[1, 2, 3, 9]"
      ]
     },
     "execution_count": 41,
     "metadata": {},
     "output_type": "execute_result"
    }
   ],
   "source": [
    "bub(data)"
   ]
  },
  {
   "cell_type": "code",
   "execution_count": null,
   "metadata": {},
   "outputs": [],
   "source": []
  },
  {
   "cell_type": "code",
   "execution_count": null,
   "metadata": {},
   "outputs": [],
   "source": []
  }
 ],
 "metadata": {
  "kernelspec": {
   "display_name": "Python 3",
   "language": "python",
   "name": "python3"
  },
  "language_info": {
   "codemirror_mode": {
    "name": "ipython",
    "version": 3
   },
   "file_extension": ".py",
   "mimetype": "text/x-python",
   "name": "python",
   "nbconvert_exporter": "python",
   "pygments_lexer": "ipython3",
   "version": "3.8.3"
  }
 },
 "nbformat": 4,
 "nbformat_minor": 4
}
