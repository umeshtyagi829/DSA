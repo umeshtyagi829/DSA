{
 "cells": [
  {
   "cell_type": "code",
   "execution_count": 1,
   "metadata": {},
   "outputs": [],
   "source": [
    "class BSTNode:\n",
    "    def __init__(self, data):\n",
    "        self.data = data\n",
    "        self.lChild = None\n",
    "        self.rChild = None"
   ]
  },
  {
   "cell_type": "code",
   "execution_count": 2,
   "metadata": {},
   "outputs": [],
   "source": [
    "newNode = BSTNode(None)"
   ]
  },
  {
   "cell_type": "code",
   "execution_count": 3,
   "metadata": {},
   "outputs": [
    {
     "data": {
      "text/plain": [
       "{'data': None, 'lChild': None, 'rChild': None}"
      ]
     },
     "execution_count": 3,
     "metadata": {},
     "output_type": "execute_result"
    }
   ],
   "source": [
    "newNode.__dict__"
   ]
  },
  {
   "cell_type": "code",
   "execution_count": 4,
   "metadata": {},
   "outputs": [],
   "source": [
    "#rootNode \n",
    "def insertNode(rootNode, nodeVal):\n",
    "    if rootNode.data == None:\n",
    "        rootNode.data = nodeVal\n",
    "    elif nodeVal <= rootNode.data:\n",
    "        # insert node left child\n",
    "        if rootNode.lChild is None:\n",
    "            rootNode.lChild = BSTNode(nodeVal)\n",
    "        else:\n",
    "            insertNode(rootNode.lChild, nodeVal)   \n",
    "    else:\n",
    "        if rootNode.rChild is None:\n",
    "            rootNode.rChild = BSTNode(nodeVal)\n",
    "        else:\n",
    "            insertNode(rootNode.rChild, nodeVal)\n",
    "    return \"New Node Inserted Successfully\"\n",
    "    "
   ]
  },
  {
   "cell_type": "code",
   "execution_count": 5,
   "metadata": {},
   "outputs": [
    {
     "data": {
      "text/plain": [
       "'New Node Inserted Successfully'"
      ]
     },
     "execution_count": 5,
     "metadata": {},
     "output_type": "execute_result"
    }
   ],
   "source": [
    "insertNode(newNode, 60)\n",
    "insertNode(newNode, 40)\n",
    "insertNode(newNode, 80)\n",
    "insertNode(newNode, 20)\n",
    "insertNode(newNode, 50)\n",
    "insertNode(newNode, 70)\n",
    "insertNode(newNode, 100)"
   ]
  },
  {
   "cell_type": "code",
   "execution_count": 6,
   "metadata": {},
   "outputs": [
    {
     "data": {
      "text/plain": [
       "{'data': 60,\n",
       " 'lChild': <__main__.BSTNode at 0x2782e5a0970>,\n",
       " 'rChild': <__main__.BSTNode at 0x2782e5a09d0>}"
      ]
     },
     "execution_count": 6,
     "metadata": {},
     "output_type": "execute_result"
    }
   ],
   "source": [
    "newNode.__dict__"
   ]
  },
  {
   "cell_type": "code",
   "execution_count": 9,
   "metadata": {},
   "outputs": [
    {
     "data": {
      "text/plain": [
       "(40, 80)"
      ]
     },
     "execution_count": 9,
     "metadata": {},
     "output_type": "execute_result"
    }
   ],
   "source": [
    "newNode.lChild.data, newNode.rChild.data"
   ]
  },
  {
   "cell_type": "code",
   "execution_count": 10,
   "metadata": {},
   "outputs": [
    {
     "data": {
      "text/plain": [
       "{'data': 40,\n",
       " 'lChild': <__main__.BSTNode at 0x2782e5a0a00>,\n",
       " 'rChild': <__main__.BSTNode at 0x2782e5a0a60>}"
      ]
     },
     "execution_count": 10,
     "metadata": {},
     "output_type": "execute_result"
    }
   ],
   "source": [
    "newNode.lChild.__dict__"
   ]
  },
  {
   "cell_type": "code",
   "execution_count": 14,
   "metadata": {},
   "outputs": [
    {
     "data": {
      "text/plain": [
       "(20, 50)"
      ]
     },
     "execution_count": 14,
     "metadata": {},
     "output_type": "execute_result"
    }
   ],
   "source": [
    "newNode.lChild.lChild.data, newNode.lChild.rChild.data"
   ]
  },
  {
   "cell_type": "code",
   "execution_count": 15,
   "metadata": {},
   "outputs": [
    {
     "data": {
      "text/plain": [
       "(70, 100)"
      ]
     },
     "execution_count": 15,
     "metadata": {},
     "output_type": "execute_result"
    }
   ],
   "source": [
    "newNode.rChild.lChild.data, newNode.rChild.rChild.data"
   ]
  },
  {
   "cell_type": "code",
   "execution_count": 19,
   "metadata": {},
   "outputs": [
    {
     "data": {
      "text/plain": [
       "{'data': 20, 'lChild': None, 'rChild': None}"
      ]
     },
     "execution_count": 19,
     "metadata": {},
     "output_type": "execute_result"
    }
   ],
   "source": [
    "newNode.lChild.lChild.__dict__"
   ]
  },
  {
   "cell_type": "code",
   "execution_count": 22,
   "metadata": {},
   "outputs": [],
   "source": [
    "def preOrderTraversal(tree):\n",
    "    if not tree:\n",
    "        return\n",
    "    print(tree.data)\n",
    "    preOrderTraversal(tree.lChild)\n",
    "    preOrderTraversal(tree.rChild)"
   ]
  },
  {
   "cell_type": "code",
   "execution_count": 54,
   "metadata": {},
   "outputs": [
    {
     "name": "stdout",
     "output_type": "stream",
     "text": [
      "60\n",
      "40\n",
      "20\n",
      "50\n",
      "80\n",
      "70\n",
      "100\n"
     ]
    }
   ],
   "source": [
    "preOrderTraversal(newNode)"
   ]
  },
  {
   "cell_type": "code",
   "execution_count": 57,
   "metadata": {},
   "outputs": [],
   "source": [
    "def inOrderTraversal(tree):\n",
    "    if not tree:\n",
    "        return\n",
    "    inOrderTraversal(tree.lChild)\n",
    "    print(tree.data)\n",
    "    inOrderTraversal(tree.rChild)"
   ]
  },
  {
   "cell_type": "code",
   "execution_count": 58,
   "metadata": {},
   "outputs": [
    {
     "name": "stdout",
     "output_type": "stream",
     "text": [
      "20\n",
      "40\n",
      "50\n",
      "60\n",
      "70\n",
      "80\n",
      "100\n"
     ]
    }
   ],
   "source": [
    "inOrderTraversal(newNode)"
   ]
  },
  {
   "cell_type": "code",
   "execution_count": 61,
   "metadata": {},
   "outputs": [],
   "source": [
    "def postOrderTraversal(tree):\n",
    "    if not tree:\n",
    "        return\n",
    "    postOrderTraversal(tree.lChild)\n",
    "    postOrderTraversal(tree.rChild)\n",
    "    print(tree.data)"
   ]
  },
  {
   "cell_type": "code",
   "execution_count": 62,
   "metadata": {},
   "outputs": [
    {
     "name": "stdout",
     "output_type": "stream",
     "text": [
      "20\n",
      "40\n",
      "50\n",
      "60\n",
      "70\n",
      "80\n",
      "100\n"
     ]
    }
   ],
   "source": [
    "inOrderTraversal(newNode)"
   ]
  },
  {
   "cell_type": "code",
   "execution_count": null,
   "metadata": {},
   "outputs": [],
   "source": []
  }
 ],
 "metadata": {
  "kernelspec": {
   "display_name": "Python 3",
   "language": "python",
   "name": "python3"
  },
  "language_info": {
   "codemirror_mode": {
    "name": "ipython",
    "version": 3
   },
   "file_extension": ".py",
   "mimetype": "text/x-python",
   "name": "python",
   "nbconvert_exporter": "python",
   "pygments_lexer": "ipython3",
   "version": "3.8.3"
  }
 },
 "nbformat": 4,
 "nbformat_minor": 4
}
