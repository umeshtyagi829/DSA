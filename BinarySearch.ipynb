{
 "cells": [
  {
   "cell_type": "code",
   "execution_count": 7,
   "metadata": {},
   "outputs": [],
   "source": [
    "import math\n",
    "\n",
    "def BinarySearch(arr,key):\n",
    "        first = 0                         \n",
    "        last = len(arr)-1                 \n",
    "        mid = math.ceil((first+last)/2)   \n",
    "        \n",
    "        while arr[mid] != key and (first <= last):  \n",
    "                                                             \n",
    "            if(key > arr[mid]):\n",
    "                first = arr[mid] + 1            \n",
    "                print(\"first=\",first,\"last=\",last,\"mid=\",arr[mid])\n",
    "            else:\n",
    "                last = arr[mid] - 1               \n",
    "                print(\"first=\",first,\"last=\",last,\"mid=\",arr[mid])\n",
    "            mid = int((first + last)/2)\n",
    "        if arr[mid] == key :\n",
    "            return \"index index number = {}\".format(mid)\n",
    "        else:\n",
    "            return \"Given Element not found in array\"    \n",
    "        "
   ]
  },
  {
   "cell_type": "code",
   "execution_count": 8,
   "metadata": {},
   "outputs": [],
   "source": [
    "arr = [1,2,3,4,5,6,7,7,10,23]"
   ]
  },
  {
   "cell_type": "code",
   "execution_count": 9,
   "metadata": {},
   "outputs": [
    {
     "name": "stdout",
     "output_type": "stream",
     "text": [
      "first= 7 last= 9 mid= 6\n"
     ]
    },
    {
     "data": {
      "text/plain": [
       "'index index number = 8'"
      ]
     },
     "execution_count": 9,
     "metadata": {},
     "output_type": "execute_result"
    }
   ],
   "source": [
    "BinarySearch(arr, 10)"
   ]
  },
  {
   "cell_type": "code",
   "execution_count": null,
   "metadata": {},
   "outputs": [],
   "source": []
  }
 ],
 "metadata": {
  "kernelspec": {
   "display_name": "Python 3",
   "language": "python",
   "name": "python3"
  },
  "language_info": {
   "codemirror_mode": {
    "name": "ipython",
    "version": 3
   },
   "file_extension": ".py",
   "mimetype": "text/x-python",
   "name": "python",
   "nbconvert_exporter": "python",
   "pygments_lexer": "ipython3",
   "version": "3.8.3"
  }
 },
 "nbformat": 4,
 "nbformat_minor": 4
}
